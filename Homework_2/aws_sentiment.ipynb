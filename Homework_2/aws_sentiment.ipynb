{
  "cells": [
    {
      "cell_type": "markdown",
      "metadata": {
        "id": "QKoT66U8Yaov"
      },
      "source": [
        "## Scalable Serverless Architectures (9 Points)"
      ]
    },
    {
      "cell_type": "markdown",
      "metadata": {
        "id": "nPFvklB5Yerx"
      },
      "source": [
        "i. (2 Points) Use Boto3 to store the raw JSON data from each survey submission as a JSON file in S3. You can label your files however you like, but you’ll want to make sure that you use a unique identifier (e.g. time stamp, followed by user ID).\n",
        "\n",
        " ii. (1 Point) Use AWS Comprehend to determine the dominant sentiment of the participant’s submitted text response. This should be a string, such as “POSITIVE” or “NEGATIVE.”\n",
        "\n",
        " iii. (2 Points) Insert/Update the participant’s record into a DynamoDB database, with the User’s ID number as the partition key, along with their current sentiment (determined above), their current self-reported mood, as well as the number of times the user has completed a survey overall (including the current survey you are processing).\n",
        "\n",
        " iv. (1 Point) Finally, your Lambda function should return the partici- pant’s current sentiment back to the app (i.e. the location where the function was invoked) for further use within the app."
      ]
    },
    {
      "cell_type": "code",
      "execution_count": 1,
      "metadata": {
        "colab": {
          "background_save": true
        },
        "id": "MpceN7mjY7-V",
        "outputId": "4cbd1e1a-c34d-472c-b6e0-40d55992e13c"
      },
      "outputs": [
        {
          "name": "stdout",
          "output_type": "stream",
          "text": [
            "Requirement already satisfied: boto3 in /Users/andrescrucettanieto/opt/anaconda3/envs/macs30123/lib/python3.7/site-packages (1.18.21)\n",
            "Requirement already satisfied: botocore<1.22.0,>=1.21.21 in /Users/andrescrucettanieto/opt/anaconda3/envs/macs30123/lib/python3.7/site-packages (from boto3) (1.21.65)\n",
            "Requirement already satisfied: s3transfer<0.6.0,>=0.5.0 in /Users/andrescrucettanieto/opt/anaconda3/envs/macs30123/lib/python3.7/site-packages (from boto3) (0.5.0)\n",
            "Requirement already satisfied: jmespath<1.0.0,>=0.7.1 in /Users/andrescrucettanieto/opt/anaconda3/envs/macs30123/lib/python3.7/site-packages (from boto3) (0.10.0)\n",
            "Requirement already satisfied: urllib3<1.27,>=1.25.4 in /Users/andrescrucettanieto/opt/anaconda3/envs/macs30123/lib/python3.7/site-packages (from botocore<1.22.0,>=1.21.21->boto3) (1.26.7)\n",
            "Requirement already satisfied: python-dateutil<3.0.0,>=2.1 in /Users/andrescrucettanieto/opt/anaconda3/envs/macs30123/lib/python3.7/site-packages (from botocore<1.22.0,>=1.21.21->boto3) (2.8.2)\n",
            "Requirement already satisfied: six>=1.5 in /Users/andrescrucettanieto/opt/anaconda3/envs/macs30123/lib/python3.7/site-packages (from python-dateutil<3.0.0,>=2.1->botocore<1.22.0,>=1.21.21->boto3) (1.16.0)\n"
          ]
        }
      ],
      "source": [
        "!pip install boto3"
      ]
    },
    {
      "cell_type": "code",
      "execution_count": 1,
      "metadata": {
        "id": "zAilQbG7XoZn"
      },
      "outputs": [],
      "source": [
        "import boto3\n",
        "import time\n",
        "import pandas as pd\n",
        "import json\n",
        "from boto3.dynamodb.conditions import Key\n",
        "from concurrent.futures import ThreadPoolExecutor"
      ]
    },
    {
      "cell_type": "code",
      "execution_count": 2,
      "metadata": {
        "colab": {
          "base_uri": "https://localhost:8080/",
          "height": 414
        },
        "id": "q0hYTDKKY5Wo",
        "outputId": "62298f98-f14e-401c-bedb-d5ad58b16a1d"
      },
      "outputs": [],
      "source": [
        "s3 = boto3.resource('s3')\n",
        "s3_resource = boto3.resource('s3')"
      ]
    },
    {
      "cell_type": "markdown",
      "metadata": {},
      "source": [
        "### Load bucket"
      ]
    },
    {
      "cell_type": "code",
      "execution_count": 3,
      "metadata": {},
      "outputs": [],
      "source": [
        "test_json = {\n",
        "            \"user_id\": \"0001\",\n",
        "            \"timestamp\": \"092821120000\",\n",
        "            \"mood\": 2,\n",
        "            \"text\": \"I am having a really bad day...\"}\n",
        "json_file = json.dumps(test_json, ensure_ascii=False)"
      ]
    },
    {
      "cell_type": "code",
      "execution_count": 4,
      "metadata": {},
      "outputs": [
        {
          "data": {
            "text/plain": [
              "'{\"user_id\": \"0001\", \"timestamp\": \"092821120000\", \"mood\": 2, \"text\": \"I am having a really bad day...\"}'"
            ]
          },
          "execution_count": 4,
          "metadata": {},
          "output_type": "execute_result"
        }
      ],
      "source": [
        "json_file"
      ]
    },
    {
      "cell_type": "code",
      "execution_count": 5,
      "metadata": {
        "id": "s5ZEs1ndZSGw"
      },
      "outputs": [
        {
          "data": {
            "text/plain": [
              "{'ResponseMetadata': {'RequestId': 'NPTBM4QMCT1PCZDJ',\n",
              "  'HostId': 'cSxibiMsFlknjCzZlPcvdRy9Hi9TELc04Hxdff9IWHA7Kyo2rIwZdB+WY0zFdVNbik6dthUzvWA=',\n",
              "  'HTTPStatusCode': 200,\n",
              "  'HTTPHeaders': {'x-amz-id-2': 'cSxibiMsFlknjCzZlPcvdRy9Hi9TELc04Hxdff9IWHA7Kyo2rIwZdB+WY0zFdVNbik6dthUzvWA=',\n",
              "   'x-amz-request-id': 'NPTBM4QMCT1PCZDJ',\n",
              "   'date': 'Tue, 02 Nov 2021 15:44:49 GMT',\n",
              "   'etag': '\"6dc22ff423a5668fe54a457ccc747bd7\"',\n",
              "   'server': 'AmazonS3',\n",
              "   'content-length': '0'},\n",
              "  'RetryAttempts': 0},\n",
              " 'ETag': '\"6dc22ff423a5668fe54a457ccc747bd7\"'}"
            ]
          },
          "execution_count": 5,
          "metadata": {},
          "output_type": "execute_result"
        }
      ],
      "source": [
        "test_json = {\n",
        "            \"user_id\": \"0001\",\n",
        "            \"timestamp\": \"092821120000\",\n",
        "            \"mood\": 2,\n",
        "            \"text\": \"I am having a really bad day...\"}\n",
        "json_file = json.dumps(test_json, ensure_ascii=False)\n",
        "\n",
        "# Create Bucket:\n",
        "s3.create_bucket(Bucket='macs30123-andresc')\n",
        "\n",
        "# Put object into bucket:\n",
        "object = s3.Object('macs30123-andresc', '{}_{}.txt'.format(test_json['timestamp'],test_json['user_id']))\n",
        "object.put(Body=json_file)"
      ]
    },
    {
      "cell_type": "code",
      "execution_count": 7,
      "metadata": {
        "id": "Z2s_vwcgZoC_"
      },
      "outputs": [],
      "source": [
        "comprehend = boto3.client('comprehend')"
      ]
    },
    {
      "cell_type": "markdown",
      "metadata": {},
      "source": [
        "### Get sentiment"
      ]
    },
    {
      "cell_type": "code",
      "execution_count": 8,
      "metadata": {},
      "outputs": [],
      "source": [
        "body = object.get()['Body'].read()\n",
        "contents = json.loads(body.decode('utf-8'))\n",
        "sentiment = comprehend.detect_sentiment(Text = contents['text'], LanguageCode = 'en') "
      ]
    },
    {
      "cell_type": "code",
      "execution_count": 9,
      "metadata": {},
      "outputs": [
        {
          "data": {
            "text/plain": [
              "{'user_id': '0001',\n",
              " 'timestamp': '092821120000',\n",
              " 'mood': 2,\n",
              " 'text': 'I am having a really bad day...'}"
            ]
          },
          "execution_count": 9,
          "metadata": {},
          "output_type": "execute_result"
        }
      ],
      "source": [
        "contents"
      ]
    },
    {
      "cell_type": "code",
      "execution_count": 29,
      "metadata": {},
      "outputs": [
        {
          "data": {
            "text/plain": [
              "{'Sentiment': 'NEGATIVE',\n",
              " 'SentimentScore': {'Positive': 0.009881318546831608,\n",
              "  'Negative': 0.8181014060974121,\n",
              "  'Neutral': 0.13082244992256165,\n",
              "  'Mixed': 0.04119482636451721},\n",
              " 'ResponseMetadata': {'RequestId': '0559e322-536a-4903-9216-d5d12e31378d',\n",
              "  'HTTPStatusCode': 200,\n",
              "  'HTTPHeaders': {'x-amzn-requestid': '0559e322-536a-4903-9216-d5d12e31378d',\n",
              "   'content-type': 'application/x-amz-json-1.1',\n",
              "   'content-length': '163',\n",
              "   'date': 'Mon, 01 Nov 2021 18:06:07 GMT'},\n",
              "  'RetryAttempts': 0}}"
            ]
          },
          "execution_count": 29,
          "metadata": {},
          "output_type": "execute_result"
        }
      ],
      "source": [
        "sentiment['Sentiment']"
      ]
    },
    {
      "cell_type": "markdown",
      "metadata": {},
      "source": [
        "### Upload into DynamoDB dataset"
      ]
    },
    {
      "cell_type": "code",
      "execution_count": 27,
      "metadata": {},
      "outputs": [
        {
          "name": "stdout",
          "output_type": "stream",
          "text": [
            "0\n",
            "2021-11-01 13:18:12.958000-05:00\n"
          ]
        }
      ],
      "source": [
        "dynamodb = boto3.resource('dynamodb')\n",
        "\n",
        "table = dynamodb.create_table(\n",
        "    TableName='tweet_sentiment',\n",
        "    KeySchema=[\n",
        "        {\n",
        "            'AttributeName': 'username',\n",
        "            'KeyType': 'HASH'\n",
        "        }\n",
        "    ],\n",
        "    AttributeDefinitions=[\n",
        "        {\n",
        "            'AttributeName': 'username',\n",
        "            'AttributeType': 'S'\n",
        "        }\n",
        "    ],\n",
        "    ProvisionedThroughput={\n",
        "        'ReadCapacityUnits': 1,\n",
        "        'WriteCapacityUnits': 1\n",
        "    }    \n",
        ")\n",
        "\n",
        "# Wait until AWS confirms that table exists before moving on\n",
        "table.meta.client.get_waiter('table_exists').wait(TableName='tweet_sentiment')\n",
        "\n",
        "# get data about table (should currently be no items in table)\n",
        "print(table.item_count)\n",
        "print(table.creation_date_time)"
      ]
    },
    {
      "cell_type": "code",
      "execution_count": 31,
      "metadata": {},
      "outputs": [
        {
          "data": {
            "text/plain": [
              "{'user_id': '0001',\n",
              " 'timestamp': '092821120000',\n",
              " 'mood': 2,\n",
              " 'text': 'I am having a really bad day...'}"
            ]
          },
          "execution_count": 31,
          "metadata": {},
          "output_type": "execute_result"
        }
      ],
      "source": [
        "contents"
      ]
    },
    {
      "cell_type": "code",
      "execution_count": 32,
      "metadata": {},
      "outputs": [
        {
          "data": {
            "text/plain": [
              "{'ResponseMetadata': {'RequestId': 'RN98G5ERTC7C16I4GMQVNICKI3VV4KQNSO5AEMVJF66Q9ASUAAJG',\n",
              "  'HTTPStatusCode': 200,\n",
              "  'HTTPHeaders': {'server': 'Server',\n",
              "   'date': 'Mon, 01 Nov 2021 18:21:10 GMT',\n",
              "   'content-type': 'application/x-amz-json-1.0',\n",
              "   'content-length': '2',\n",
              "   'connection': 'keep-alive',\n",
              "   'x-amzn-requestid': 'RN98G5ERTC7C16I4GMQVNICKI3VV4KQNSO5AEMVJF66Q9ASUAAJG',\n",
              "   'x-amz-crc32': '2745614147'},\n",
              "  'RetryAttempts': 0}}"
            ]
          },
          "execution_count": 32,
          "metadata": {},
          "output_type": "execute_result"
        }
      ],
      "source": [
        "table.put_item(\n",
        "   Item={\n",
        "        'username': contents['user_id'],\n",
        "        'sentiment': sentiment['Sentiment'],\n",
        "        'mood': contents['mood'],\n",
        "        'survey_count': 0\n",
        "    }\n",
        ")"
      ]
    },
    {
      "cell_type": "code",
      "execution_count": 50,
      "metadata": {},
      "outputs": [],
      "source": [
        "try: \n",
        "    response = table.get_item(\n",
        "    Key={\n",
        "        'username': '0001'\n",
        "    }\n",
        "    )\n",
        "except dynamodb.exceptions.DynamoDBKeyNotFoundError:\n",
        "    print(\"No item here\")"
      ]
    },
    {
      "cell_type": "code",
      "execution_count": 57,
      "metadata": {},
      "outputs": [
        {
          "data": {
            "text/plain": [
              "Decimal('2')"
            ]
          },
          "execution_count": 57,
          "metadata": {},
          "output_type": "execute_result"
        }
      ],
      "source": [
        "response['Item']['survey_count']+2"
      ]
    },
    {
      "cell_type": "code",
      "execution_count": 62,
      "metadata": {},
      "outputs": [
        {
          "data": {
            "text/plain": [
              "{'ResponseMetadata': {'RequestId': 'CNL1PMQJAF2VMCA3QO3RR1K30FVV4KQNSO5AEMVJF66Q9ASUAAJG',\n",
              "  'HTTPStatusCode': 200,\n",
              "  'HTTPHeaders': {'server': 'Server',\n",
              "   'date': 'Mon, 01 Nov 2021 19:00:56 GMT',\n",
              "   'content-type': 'application/x-amz-json-1.0',\n",
              "   'content-length': '2',\n",
              "   'connection': 'keep-alive',\n",
              "   'x-amzn-requestid': 'CNL1PMQJAF2VMCA3QO3RR1K30FVV4KQNSO5AEMVJF66Q9ASUAAJG',\n",
              "   'x-amz-crc32': '2745614147'},\n",
              "  'RetryAttempts': 0}}"
            ]
          },
          "execution_count": 62,
          "metadata": {},
          "output_type": "execute_result"
        }
      ],
      "source": [
        "table.update_item(\n",
        "    Key={\n",
        "        'username': '0001'\n",
        "    },\n",
        "    UpdateExpression='SET num_tweets = :val1',\n",
        "    ExpressionAttributeValues={\n",
        "        ':val1': 2\n",
        "    }\n",
        ")"
      ]
    },
    {
      "cell_type": "code",
      "execution_count": 63,
      "metadata": {},
      "outputs": [],
      "source": [
        "response = table.get_item(\n",
        "Key={\n",
        "'username': '0001'\n",
        "}\n",
        ")"
      ]
    },
    {
      "cell_type": "code",
      "execution_count": 66,
      "metadata": {},
      "outputs": [
        {
          "data": {
            "text/plain": [
              "{'mood': Decimal('2'),\n",
              " 'survey_count': Decimal('0'),\n",
              " 'username': '0001',\n",
              " 'num_tweets': Decimal('2'),\n",
              " 'sentiment': 'NEGATIVE'}"
            ]
          },
          "execution_count": 66,
          "metadata": {},
          "output_type": "execute_result"
        }
      ],
      "source": [
        "response['Item']"
      ]
    },
    {
      "cell_type": "markdown",
      "metadata": {},
      "source": [
        "### Testing with Lambda"
      ]
    },
    {
      "cell_type": "code",
      "execution_count": 12,
      "metadata": {},
      "outputs": [
        {
          "data": {
            "text/plain": [
              "{'statusCode': 200, 'body': 'NEGATIVE'}"
            ]
          },
          "execution_count": 12,
          "metadata": {},
          "output_type": "execute_result"
        }
      ],
      "source": [
        "aws_lambda = boto3.client('lambda')\n",
        "\n",
        "test_json = {\n",
        "            \"user_id\": \"0001\",\n",
        "            \"timestamp\": \"092821120000\",\n",
        "            \"mood\": 2,\n",
        "            \"text\": \"I am having a really bad day...\"}\n",
        "\n",
        "# run synchronously:\n",
        "r = aws_lambda.invoke(FunctionName='tweet_sentiment_analysis',\n",
        "                      InvocationType='RequestResponse',\n",
        "                      Payload=json.dumps(test_json))\n",
        "\n",
        "json.loads(r['Payload'].read()) # print out response"
      ]
    }
  ],
  "metadata": {
    "colab": {
      "collapsed_sections": [],
      "name": "LSC_HW2.ipynb",
      "provenance": []
    },
    "interpreter": {
      "hash": "3c92b9511f36e0c473d065dabb6162ef79417fb874550b65bd1ca7cc45449378"
    },
    "kernelspec": {
      "display_name": "Python 3.7.11 64-bit ('macs30123': conda)",
      "name": "python3"
    },
    "language_info": {
      "codemirror_mode": {
        "name": "ipython",
        "version": 3
      },
      "file_extension": ".py",
      "mimetype": "text/x-python",
      "name": "python",
      "nbconvert_exporter": "python",
      "pygments_lexer": "ipython3",
      "version": "3.7.11"
    }
  },
  "nbformat": 4,
  "nbformat_minor": 0
}
