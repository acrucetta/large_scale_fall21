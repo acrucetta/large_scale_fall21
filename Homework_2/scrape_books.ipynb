{
 "cells": [
  {
   "cell_type": "markdown",
   "metadata": {},
   "source": [
    "2. Identifying Most-Used Words (3 Points). Assume that you have scraped book description data from this website (we have included a text file in your assignment repositories with this scraped data — descriptions.txt — where each line is a description of a different book). Use mrjob to write code that identifies the overall top ten words used in the book descriptions (excluding stopwords). Include these top words and counts in your README. You are welcome to run your code either locally or on an EMR cluster."
   ]
  },
  {
   "cell_type": "code",
   "execution_count": 1,
   "metadata": {},
   "outputs": [
    {
     "name": "stdout",
     "output_type": "stream",
     "text": [
      "Requirement already satisfied: mrjob in /Users/andrescrucettanieto/opt/anaconda3/envs/macs30123/lib/python3.7/site-packages (0.7.4)\n",
      "Requirement already satisfied: PyYAML>=3.10 in /Users/andrescrucettanieto/opt/anaconda3/envs/macs30123/lib/python3.7/site-packages (from mrjob) (5.4.1)\n"
     ]
    }
   ],
   "source": [
    "!pip install mrjob"
   ]
  },
  {
   "cell_type": "code",
   "execution_count": 2,
   "metadata": {},
   "outputs": [],
   "source": [
    "import mrjob\n",
    "import numpy\n",
    "import boto3"
   ]
  },
  {
   "cell_type": "code",
   "execution_count": null,
   "metadata": {},
   "outputs": [],
   "source": []
  }
 ],
 "metadata": {
  "interpreter": {
   "hash": "3c92b9511f36e0c473d065dabb6162ef79417fb874550b65bd1ca7cc45449378"
  },
  "kernelspec": {
   "display_name": "Python 3.7.11 64-bit ('macs30123': conda)",
   "name": "python3"
  },
  "language_info": {
   "codemirror_mode": {
    "name": "ipython",
    "version": 3
   },
   "file_extension": ".py",
   "mimetype": "text/x-python",
   "name": "python",
   "nbconvert_exporter": "python",
   "pygments_lexer": "ipython3",
   "version": "3.7.11"
  },
  "orig_nbformat": 4
 },
 "nbformat": 4,
 "nbformat_minor": 2
}
